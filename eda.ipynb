{
 "cells": [
  {
   "cell_type": "markdown",
   "id": "fe3f3540",
   "metadata": {},
   "source": [
    "# OCR with llama:vision"
   ]
  },
  {
   "cell_type": "code",
   "execution_count": 1,
   "id": "f29fa068",
   "metadata": {},
   "outputs": [],
   "source": [
    "import ollama\n",
    "import os"
   ]
  },
  {
   "cell_type": "code",
   "execution_count": 2,
   "id": "ccc8eb63",
   "metadata": {},
   "outputs": [],
   "source": [
    "image_path = os.path.join(os.getcwd(), \"pics\", \"invoice-template.webp\") # Replace with your image path\n",
    "\n",
    "# Use Ollama to analyze the image with Llama 3.2-Vision\n",
    "response = ollama.chat(\n",
    "    model=\"llama3.2-vision\",\n",
    "    messages=[{\n",
    "      \"role\": \"user\",\n",
    "      \"content\": \"Analyze the text in the provided image. Extract all readable content and present it in a structured [Markdown/JSON] format.\",\n",
    "      \"images\": [image_path]\n",
    "    }],\n",
    ")"
   ]
  },
  {
   "cell_type": "code",
   "execution_count": 3,
   "id": "3ba65219",
   "metadata": {},
   "outputs": [
    {
     "name": "stdout",
     "output_type": "stream",
     "text": [
      "Model Response: **Invoice**\n",
      "\n",
      "* **Invoice Number**: 01234\n",
      "* **Date**: 11.02.2030\n",
      "* **Due Date**: 11.03.2030\n",
      "\n",
      "**Payment Information**\n",
      "\n",
      "* **Payee**: Borcele Bank\n",
      "* **Account Name**: Adeline Palmerston\n",
      "* **Account Number**: 0123 4567 8901\n",
      "\n",
      "**Invoice Details**\n",
      "\n",
      "* **Invoice Total**: $400\n",
      "* **Tax**: 10%\n",
      "* **Total**: $440\n",
      "\n",
      "**Services Provided**\n",
      "\n",
      "* **Brand Consultation**: $100\n",
      "* **Logo Design**: $100\n",
      "* **Website Design**: $100\n",
      "* **Social Media Templates**: $100\n",
      "* **Brand Photography**: $100\n",
      "* **Brand Guide**: $100\n",
      "\n",
      "**Subtotal**: $400\n",
      "**Tax**: $40\n",
      "**Total**: $440\n",
      "\n",
      "**Payment Method**\n",
      "\n",
      "* **Payment Method**: Bank Transfer\n",
      "* **Payment Date**: 11.03.2030\n",
      "\n",
      "**Signature**\n",
      "\n",
      "* **Signature**: Adeline Palmerston\n"
     ]
    }
   ],
   "source": [
    "# Extract the model's response about the image\n",
    "cleaned_text = response['message']['content'].strip()\n",
    "print(f\"Model Response: {cleaned_text}\")"
   ]
  },
  {
   "cell_type": "markdown",
   "id": "d3e6bf28",
   "metadata": {},
   "source": [
    "# Structured JSOn Output"
   ]
  },
  {
   "cell_type": "code",
   "execution_count": 4,
   "id": "70c70664",
   "metadata": {},
   "outputs": [],
   "source": [
    "\n",
    "\n",
    "from langchain_ollama import ChatOllama\n",
    "import os\n",
    "from langchain_core.prompts import ChatPromptTemplate\n",
    "from langchain_core.output_parsers import StrOutputParser\n",
    "import re\n",
    "\n"
   ]
  },
  {
   "cell_type": "code",
   "execution_count": 5,
   "id": "47bfd084",
   "metadata": {},
   "outputs": [],
   "source": [
    "# Define the template\n",
    "def get_response(response):\n",
    "    template = \"\"\"\n",
    "        You are given text that may contain receipt or invoice information.  \n",
    "        Your task is to extract structured data and return it strictly as JSON.\n",
    "\n",
    "        Fields to extract:\n",
    "        - Company\n",
    "        - Bill To: {{ Name, Address }}\n",
    "        - Ship To: {{ Name, Address }}\n",
    "        - Receipt Number\n",
    "        - Date\n",
    "        - P.O. Number\n",
    "        - Items: [{{ Description, Quantity, Unit Price, Total }}]\n",
    "        - Subtotal\n",
    "        - Sales Tax\n",
    "        - Total\n",
    "        - Payment Instructions: {{ Bank Transfer, Paypal Email }}\n",
    "        - Terms & Conditions\n",
    "\n",
    "        Input text:\n",
    "        {response}\n",
    "\n",
    "        Return only valid JSON (UTF-8 encoded), without any extra commentary or Markdown formatting.\n",
    "            \"\"\"\n",
    "    \n",
    "#\n",
    "    prompt = ChatPromptTemplate.from_template(template)\n",
    "\n",
    "    # llm\n",
    "    llm = ChatOllama(model=\"llama3\",  temperature=0)\n",
    "\n",
    "    chain = ( prompt\n",
    "    | llm\n",
    "    | StrOutputParser()\n",
    "    )\n",
    "\n",
    "    return chain.invoke({\n",
    "    \"response\": response,\n",
    "    })\n"
   ]
  },
  {
   "cell_type": "code",
   "execution_count": 6,
   "id": "2c380445",
   "metadata": {},
   "outputs": [],
   "source": [
    "result = get_response(cleaned_text)"
   ]
  },
  {
   "cell_type": "code",
   "execution_count": 7,
   "id": "7ddb28f7",
   "metadata": {},
   "outputs": [
    {
     "data": {
      "text/plain": [
       "'Here is the extracted data in JSON format:\\n\\n```\\n{\\n    \"Company\": \"\",\\n    \"Bill To\": {\\n        \"Name\": \"\",\\n        \"Address\": \"\"\\n    },\\n    \"Ship To\": {\\n        \"Name\": \"\",\\n        \"Address\": \"\"\\n    },\\n    \"Receipt Number\": \"01234\",\\n    \"Date\": \"11.02.2030\",\\n    \"P.O. Number\": \"\",\\n    \"Items\": [\\n        {\\n            \"Description\": \"Brand Consultation\",\\n            \"Quantity\": 1,\\n            \"Unit Price\": 100,\\n            \"Total\": 100\\n        },\\n        {\\n            \"Description\": \"Logo Design\",\\n            \"Quantity\": 1,\\n            \"Unit Price\": 100,\\n            \"Total\": 100\\n        },\\n        {\\n            \"Description\": \"Website Design\",\\n            \"Quantity\": 1,\\n            \"Unit Price\": 100,\\n            \"Total\": 100\\n        },\\n        {\\n            \"Description\": \"Social Media Templates\",\\n            \"Quantity\": 1,\\n            \"Unit Price\": 100,\\n            \"Total\": 100\\n        },\\n        {\\n            \"Description\": \"Brand Photography\",\\n            \"Quantity\": 1,\\n            \"Unit Price\": 100,\\n            \"Total\": 100\\n        },\\n        {\\n            \"Description\": \"Brand Guide\",\\n            \"Quantity\": 1,\\n            \"Unit Price\": 100,\\n            \"Total\": 100\\n        }\\n    ],\\n    \"Subtotal\": 400,\\n    \"Sales Tax\": 40,\\n    \"Total\": 440,\\n    \"Payment Instructions\": {\\n        \"Bank Transfer\": \"\",\\n        \"Paypal Email\": \"\"\\n    },\\n    \"Terms & Conditions\": \"\"\\n}\\n```'"
      ]
     },
     "execution_count": 7,
     "metadata": {},
     "output_type": "execute_result"
    }
   ],
   "source": [
    "result"
   ]
  },
  {
   "cell_type": "code",
   "execution_count": 8,
   "id": "5517cbe1",
   "metadata": {},
   "outputs": [
    {
     "name": "stdout",
     "output_type": "stream",
     "text": [
      "{\n",
      "  \"Company\": \"\",\n",
      "  \"Bill To\": {\n",
      "    \"Name\": \"\",\n",
      "    \"Address\": \"\"\n",
      "  },\n",
      "  \"Ship To\": {\n",
      "    \"Name\": \"\",\n",
      "    \"Address\": \"\"\n",
      "  },\n",
      "  \"Receipt Number\": \"01234\",\n",
      "  \"Date\": \"11.02.2030\",\n",
      "  \"P.O. Number\": \"\",\n",
      "  \"Items\": [\n",
      "    {\n",
      "      \"Description\": \"Brand Consultation\",\n",
      "      \"Quantity\": 1,\n",
      "      \"Unit Price\": 100,\n",
      "      \"Total\": 100\n",
      "    },\n",
      "    {\n",
      "      \"Description\": \"Logo Design\",\n",
      "      \"Quantity\": 1,\n",
      "      \"Unit Price\": 100,\n",
      "      \"Total\": 100\n",
      "    },\n",
      "    {\n",
      "      \"Description\": \"Website Design\",\n",
      "      \"Quantity\": 1,\n",
      "      \"Unit Price\": 100,\n",
      "      \"Total\": 100\n",
      "    },\n",
      "    {\n",
      "      \"Description\": \"Social Media Templates\",\n",
      "      \"Quantity\": 1,\n",
      "      \"Unit Price\": 100,\n",
      "      \"Total\": 100\n",
      "    },\n",
      "    {\n",
      "      \"Description\": \"Brand Photography\",\n",
      "      \"Quantity\": 1,\n",
      "      \"Unit Price\": 100,\n",
      "      \"Total\": 100\n",
      "    },\n",
      "    {\n",
      "      \"Description\": \"Brand Guide\",\n",
      "      \"Quantity\": 1,\n",
      "      \"Unit Price\": 100,\n",
      "      \"Total\": 100\n",
      "    }\n",
      "  ],\n",
      "  \"Subtotal\": 400,\n",
      "  \"Sales Tax\": 40,\n",
      "  \"Total\": 440,\n",
      "  \"Payment Instructions\": {\n",
      "    \"Bank Transfer\": \"\",\n",
      "    \"Paypal Email\": \"\"\n",
      "  },\n",
      "  \"Terms & Conditions\": \"\"\n",
      "}\n"
     ]
    }
   ],
   "source": [
    "import re\n",
    "import json\n",
    "\n",
    "json_match = re.search(r\"```\\n(.*?)\\n```\", result, re.DOTALL)\n",
    "\n",
    "if json_match:\n",
    "    receipt_data = json_match.group(1)\n",
    "    try:\n",
    "        parsed_data = json.loads(receipt_data)\n",
    "        json_data = json.dumps(parsed_data, indent=2)\n",
    "        print(json.dumps(parsed_data, indent=2))\n",
    "    except json.JSONDecodeError:\n",
    "        print(\"Failed to parse JSON.\")\n",
    "else:\n",
    "    print(\"No JSON found.\")\n"
   ]
  },
  {
   "cell_type": "code",
   "execution_count": null,
   "id": "41ab1136",
   "metadata": {},
   "outputs": [],
   "source": []
  }
 ],
 "metadata": {
  "kernelspec": {
   "display_name": ".venv",
   "language": "python",
   "name": "python3"
  },
  "language_info": {
   "codemirror_mode": {
    "name": "ipython",
    "version": 3
   },
   "file_extension": ".py",
   "mimetype": "text/x-python",
   "name": "python",
   "nbconvert_exporter": "python",
   "pygments_lexer": "ipython3",
   "version": "3.10.18"
  }
 },
 "nbformat": 4,
 "nbformat_minor": 5
}
