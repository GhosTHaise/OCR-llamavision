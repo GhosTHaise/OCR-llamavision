{
 "cells": [
  {
   "cell_type": "markdown",
   "id": "fe3f3540",
   "metadata": {},
   "source": [
    "# OCR with llama:vision"
   ]
  },
  {
   "cell_type": "code",
   "execution_count": 9,
   "id": "f29fa068",
   "metadata": {},
   "outputs": [],
   "source": [
    "import ollama\n",
    "import os"
   ]
  },
  {
   "cell_type": "code",
   "execution_count": 14,
   "id": "ccc8eb63",
   "metadata": {},
   "outputs": [],
   "source": [
    "image_path = os.path.join(os.getcwd(), \"pics\", \"invoice-template.webp\") # Replace with your image path\n",
    "\n",
    "# Use Ollama to analyze the image with Llama 3.2-Vision\n",
    "response = ollama.chat(\n",
    "    model=\"llama3.2-vision\",\n",
    "    messages=[{\n",
    "      \"role\": \"user\",\n",
    "      \"content\": \"Analyze the text in the provided image. Extract all readable content and present it in a structured [Markdown/JSON] format.\",\n",
    "      \"images\": [image_path]\n",
    "    }],\n",
    ")"
   ]
  },
  {
   "cell_type": "code",
   "execution_count": 15,
   "id": "3ba65219",
   "metadata": {},
   "outputs": [
    {
     "name": "stdout",
     "output_type": "stream",
     "text": [
      "Model Response: The image presents an invoice in a simple, clean design. The invoice is for services provided by Thynk Unlimited to Richard Sanchez of Thynk Unlimited.\n",
      "\n",
      "* **Invoice Information**\n",
      "\t+ Invoice Number: 01234\n",
      "\t+ Date: 11.02.2030\n",
      "\t+ Due Date: 11.03.2030\n",
      "* **Payment Information**\n",
      "\t+ Payment Method: Borcele Bank\n",
      "\t+ Account Name: Adeline Palmerston\n",
      "\t+ Account Number: 0123 4567 8901\n",
      "* **Services Provided**\n",
      "\t+ Brand Consultation: $100\n",
      "\t+ Logo Design: $100\n",
      "\t+ Website Design: $100\n",
      "\t+ Social Media Templates: $100\n",
      "\t+ Brand Photography: $100\n",
      "\t+ Brand Guide: $100\n",
      "* **Total**\n",
      "\t+ Total Cost: $440\n",
      "\t+ Tax: 10% of total cost\n",
      "\t+ Total Amount Due: $440\n",
      "* **Payment Status**\n",
      "\t+ Payment Method: Borcele Bank\n",
      "\t+ Account Name: Adeline Palmerston\n",
      "\t+ Account Number: 0123 4567 8901\n",
      "\n",
      "The invoice is a clear and concise document that outlines the services provided, the cost of each service, and the total amount due. The payment information is also included, making it easy for the customer to make payment. Overall, the invoice is a well-structured and easy-to-read document that effectively communicates the necessary information.\n"
     ]
    }
   ],
   "source": [
    "# Extract the model's response about the image\n",
    "cleaned_text = response['message']['content'].strip()\n",
    "print(f\"Model Response: {cleaned_text}\")"
   ]
  },
  {
   "cell_type": "code",
   "execution_count": null,
   "id": "d3e6bf28",
   "metadata": {},
   "outputs": [],
   "source": []
  },
  {
   "cell_type": "code",
   "execution_count": null,
   "id": "70c70664",
   "metadata": {},
   "outputs": [],
   "source": []
  },
  {
   "cell_type": "code",
   "execution_count": null,
   "id": "47bfd084",
   "metadata": {},
   "outputs": [],
   "source": []
  },
  {
   "cell_type": "code",
   "execution_count": null,
   "id": "2c380445",
   "metadata": {},
   "outputs": [],
   "source": []
  }
 ],
 "metadata": {
  "kernelspec": {
   "display_name": ".venv",
   "language": "python",
   "name": "python3"
  },
  "language_info": {
   "codemirror_mode": {
    "name": "ipython",
    "version": 3
   },
   "file_extension": ".py",
   "mimetype": "text/x-python",
   "name": "python",
   "nbconvert_exporter": "python",
   "pygments_lexer": "ipython3",
   "version": "3.10.18"
  }
 },
 "nbformat": 4,
 "nbformat_minor": 5
}
