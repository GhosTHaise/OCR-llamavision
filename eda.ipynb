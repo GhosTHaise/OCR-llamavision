{
 "cells": [
  {
   "cell_type": "markdown",
   "id": "fe3f3540",
   "metadata": {},
   "source": [
    "# OCR with llama:vision"
   ]
  },
  {
   "cell_type": "code",
   "execution_count": 9,
   "id": "f29fa068",
   "metadata": {},
   "outputs": [],
   "source": [
    "import ollama\n",
    "import os"
   ]
  },
  {
   "cell_type": "code",
   "execution_count": null,
   "id": "ccc8eb63",
   "metadata": {},
   "outputs": [],
   "source": [
    "image_path = os.path.join(os.getcwd(), \"pics\", \"invoice-template.webp\") # Replace with your image path\n",
    "\n",
    "# Use Ollama to analyze the image with Llama 3.2-Vision\n",
    "response = ollama.chat(\n",
    "    model=\"llama3.2-vision\",\n",
    "    messages=[{\n",
    "      \"role\": \"user\",\n",
    "      \"content\": \"Analyze the text in the provided image. Extract all readable content and present it in a structured [Markdown/JSON] format.\",\n",
    "      \"images\": [image_path]\n",
    "    }],\n",
    ")"
   ]
  },
  {
   "cell_type": "code",
   "execution_count": 13,
   "id": "3ba65219",
   "metadata": {},
   "outputs": [
    {
     "name": "stdout",
     "output_type": "stream",
     "text": [
      "Model Response: The image shows an invoice for a brand consulting service. The invoice is for $440 and includes the following services:\n",
      "\n",
      "*   Brand consultation\n",
      "*   Logo design\n",
      "*   Website design\n",
      "*   Social media templates\n",
      "*   Brand photography\n",
      "*   Brand guide\n",
      "\n",
      "The invoice is dated November 2, 2030, and is addressed to Richard Sanchez at Thynk Unlimited. The payment method is a bank transfer to Borcele Bank, and the account details are provided. The invoice includes a description of the services provided, the unit price, and the total amount due. The invoice also includes a tax rate of 10% and a subtotal of $400. The total amount due is $440, which includes the tax. The invoice is signed by Adeline Palmerston, who is likely the owner of the brand consulting service. Overall, the invoice provides a clear and detailed breakdown of the services provided and the amount due. It is a standard business document that is used to request payment for goods or services.\n"
     ]
    }
   ],
   "source": [
    "# Extract the model's response about the image\n",
    "cleaned_text = response['message']['content'].strip()\n",
    "print(f\"Model Response: {cleaned_text}\")"
   ]
  },
  {
   "cell_type": "code",
   "execution_count": null,
   "id": "d3e6bf28",
   "metadata": {},
   "outputs": [],
   "source": []
  },
  {
   "cell_type": "code",
   "execution_count": null,
   "id": "70c70664",
   "metadata": {},
   "outputs": [],
   "source": []
  },
  {
   "cell_type": "code",
   "execution_count": null,
   "id": "47bfd084",
   "metadata": {},
   "outputs": [],
   "source": []
  },
  {
   "cell_type": "code",
   "execution_count": null,
   "id": "2c380445",
   "metadata": {},
   "outputs": [],
   "source": []
  }
 ],
 "metadata": {
  "kernelspec": {
   "display_name": ".venv",
   "language": "python",
   "name": "python3"
  },
  "language_info": {
   "codemirror_mode": {
    "name": "ipython",
    "version": 3
   },
   "file_extension": ".py",
   "mimetype": "text/x-python",
   "name": "python",
   "nbconvert_exporter": "python",
   "pygments_lexer": "ipython3",
   "version": "3.10.18"
  }
 },
 "nbformat": 4,
 "nbformat_minor": 5
}
